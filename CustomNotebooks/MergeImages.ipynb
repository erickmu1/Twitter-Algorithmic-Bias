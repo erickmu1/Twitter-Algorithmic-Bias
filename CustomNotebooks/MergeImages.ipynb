{
 "cells": [
  {
   "cell_type": "code",
   "execution_count": 25,
   "source": [
    "# Code Adapted from: https://stackoverflow.com/questions/10657383/stitching-photos-together\n",
    "from PIL import Image\n",
    "from pathlib import Path\n",
    "\n",
    "# Set Home directory\n",
    "HOME_DIR = Path(\"../\").expanduser()\n",
    "\n",
    "# Load images to stitch together\n",
    "top_img_path = HOME_DIR / Path(\"./HALT_results/HALT_TwitterAlgoBias_1.jpg\")\n",
    "bot_img_path = HOME_DIR / Path(\"./HALT_results/HALT_TwitterAlgoBias_2.jpg\")\n",
    "\n",
    "top_img = Image.open(top_img_path)\n",
    "bot_img = Image.open(bot_img_path)\n",
    "\n",
    "# Stitch images vertically\n",
    "(w1, h1) = top_img.size\n",
    "(w2, h2) = bot_img.size\n",
    "\n",
    "w = max(w1, w2)\n",
    "h = h1 + h2\n",
    "\n",
    "merged = Image.new('RGB', (w, h))\n",
    "merged.paste(im=top_img, box=(0, 0))\n",
    "merged.paste(im=bot_img, box=(0, h1))\n",
    "\n",
    "# Save image\n",
    "merged.save(HOME_DIR / Path(\"./HALT_results/HALT_TwitterAlgoBias_Comp_1_2.jpg\"))\n"
   ],
   "outputs": [],
   "metadata": {}
  }
 ],
 "metadata": {
  "orig_nbformat": 4,
  "language_info": {
   "name": "python",
   "version": "3.9.6",
   "mimetype": "text/x-python",
   "codemirror_mode": {
    "name": "ipython",
    "version": 3
   },
   "pygments_lexer": "ipython3",
   "nbconvert_exporter": "python",
   "file_extension": ".py"
  },
  "kernelspec": {
   "name": "python3",
   "display_name": "Python 3.9.6 64-bit ('image-crop-analysis': conda)"
  },
  "interpreter": {
   "hash": "60c6d1f01a6b86d97954e500cba66969566fa382f3ba32c579fe3b55289dceb9"
  }
 },
 "nbformat": 4,
 "nbformat_minor": 2
}