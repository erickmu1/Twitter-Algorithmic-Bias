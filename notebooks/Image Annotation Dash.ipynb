{
 "cells": [
  {
   "cell_type": "markdown",
   "metadata": {},
   "source": [
    "```\n",
    "Copyright 2021 Twitter, Inc.\n",
    "SPDX-License-Identifier: Apache-2.0\n",
    "```\n",
    "\n",
    "# Image Annotation dashboard\n",
    "\n",
    "This notebook sets up a server with API access of the cropping algorithm. \n",
    "\n",
    "At the end of this notebook, a url will be given and you can open that link in the browser to access the cropping algorithm API. \n",
    "\n",
    "On that webpage, you can upload any image and the saliency-based crops will be produced.\n",
    "\n",
    "Make sure dash is install."
   ]
  },
  {
   "cell_type": "code",
   "execution_count": null,
   "metadata": {
    "tags": []
   },
   "outputs": [],
   "source": [
    "import base64\n",
    "import logging\n",
    "import shlex\n",
    "import subprocess\n",
    "import sys\n",
    "import tempfile\n",
    "from collections import namedtuple\n",
    "from io import BytesIO\n",
    "from pathlib import Path\n",
    "\n",
    "import matplotlib.image as mpimg\n",
    "import matplotlib.pyplot as plt\n",
    "import numpy as np\n",
    "from matplotlib.collections import PatchCollection\n",
    "from matplotlib.patches import Rectangle\n",
    "from PIL import Image\n",
    "\n",
    "import re\n",
    "\n",
    "logging.basicConfig(level=logging.ERROR)"
   ]
  },
  {
   "cell_type": "code",
   "execution_count": null,
   "metadata": {
    "tags": []
   },
   "outputs": [],
   "source": [
    "import datetime\n",
    "import os\n",
    "\n",
    "import dash\n",
    "import dash_core_components as dcc\n",
    "import dash_html_components as html\n",
    "from dash.dependencies import Input, Output, State\n",
    "\n",
    "PORT = 9000  \n",
    "DEV_PORT = 9001\n",
    "PORT, DEV_PORT"
   ]
  },
  {
   "cell_type": "code",
   "execution_count": null,
   "metadata": {
    "tags": []
   },
   "outputs": [],
   "source": [
    "import platform\n",
    "\n",
    "BIN_MAPS = {\"Darwin\": \"mac\", \"Linux\": \"linux\"}\n",
    "\n",
    "HOME_DIR = Path(\"../\").expanduser()\n",
    "\n",
    "try:\n",
    "    import google.colab\n",
    "    ! pip install pandas scikit-learn scikit-image statsmodels requests dash\n",
    "    ! [[ -d image-crop-analysis ]] || git clone https://github.com/twitter-research/image-crop-analysis.git\n",
    "    HOME_DIR = Path(\"./image-crop-analysis\").expanduser()\n",
    "    IN_COLAB = True\n",
    "except:\n",
    "    IN_COLAB = False\n",
    "\n",
    "sys.path.append(str(HOME_DIR / \"src\"))\n",
    "bin_dir = HOME_DIR / Path(\"./bin\")\n",
    "bin_path = bin_dir / BIN_MAPS[platform.system()] / \"candidate_crops\"\n",
    "model_path = bin_dir / \"fastgaze.vxm\"\n",
    "data_dir = HOME_DIR / Path(\"./data/\")\n",
    "data_dir.exists()"
   ]
  },
  {
   "cell_type": "code",
   "execution_count": null,
   "metadata": {
    "tags": []
   },
   "outputs": [],
   "source": [
    "from crop_api import ImageSaliencyModel, is_symmetric, parse_output, reservoir_sampling\n",
    "from image_manipulation import join_images, process_image"
   ]
  },
  {
   "cell_type": "code",
   "execution_count": null,
   "metadata": {
    "tags": []
   },
   "outputs": [],
   "source": [
    "model = ImageSaliencyModel(\n",
    "    crop_binary_path=bin_path,\n",
    "    crop_model_path=model_path,\n",
    ")"
   ]
  },
  {
   "cell_type": "code",
   "execution_count": null,
   "metadata": {
    "tags": []
   },
   "outputs": [],
   "source": [
    "plt.matplotlib.__version__"
   ]
  },
  {
   "cell_type": "code",
   "execution_count": null,
   "metadata": {
    "tags": []
   },
   "outputs": [],
   "source": [
    "img_path = data_dir / \"dummy.jpeg\"\n",
    "img_path.exists()"
   ]
  },
  {
   "cell_type": "code",
   "execution_count": null,
   "metadata": {
    "tags": []
   },
   "outputs": [],
   "source": [
    "model.plot_img_crops(img_path)"
   ]
  },
  {
   "cell_type": "code",
   "execution_count": null,
   "metadata": {
    "tags": []
   },
   "outputs": [],
   "source": [
    "process_image(img_path, model)"
   ]
  },
  {
   "cell_type": "code",
   "execution_count": null,
   "metadata": {},
   "outputs": [],
   "source": [
    "with open(img_path, \"rb\") as fp:\n",
    "    img_content = base64.b64encode(fp.read())"
   ]
  },
  {
   "cell_type": "code",
   "execution_count": null,
   "metadata": {},
   "outputs": [],
   "source": [
    "default_img_content = \"\"\"data:image/jpg;base64,{}\"\"\".format(\n",
    "    img_content.decode(\"utf-8\").replace(\"\\n\", \"\")\n",
    ")"
   ]
  },
  {
   "cell_type": "code",
   "execution_count": null,
   "metadata": {
    "tags": []
   },
   "outputs": [],
   "source": [
    "STRIP_IMG_PREFIX = re.compile(\"^data:image/.+;base64,\")\n",
    "\n",
    "def get_plt_fig_contents(fig=None):\n",
    "    if fig is None:\n",
    "        fig = plt.gcf()\n",
    "    pic_IObytes = BytesIO()\n",
    "    fig.savefig(pic_IObytes, bbox_inches=\"tight\", format=\"jpg\")\n",
    "    plt.close()\n",
    "    pic_IObytes.seek(0)\n",
    "    img_crop_contents = (\n",
    "        base64.b64encode(pic_IObytes.read()).decode(\"utf-8\").replace(\"\\n\", \"\")\n",
    "    )\n",
    "    img_crop_contents = f\"data:image/jpg;base64,{img_crop_contents}\"\n",
    "    return img_crop_contents\n",
    "\n",
    "\n",
    "def get_crop_image(contents):\n",
    "    contents = STRIP_IMG_PREFIX.sub(\"\", contents)\n",
    "    img = Image.open(BytesIO(base64.b64decode(contents)))\n",
    "    model.plot_img_crops_using_img(img)\n",
    "    img_crop_contents = get_plt_fig_contents(fig=None)\n",
    "    return img_crop_contents\n",
    "\n",
    "\n",
    "def parse_contents(contents, filename, date):\n",
    "    with tempfile.NamedTemporaryFile(\"w+b\") as fp:\n",
    "        contents = STRIP_IMG_PREFIX.sub(\"\", contents)\n",
    "        img = Image.open(BytesIO(base64.b64decode(contents)))\n",
    "        print(fp.name)\n",
    "        img.save(fp, \"JPEG\")\n",
    "        img_path = Path(fp.name)\n",
    "        model.plot_img_crops(img_path)\n",
    "        img_crop_contents = get_plt_fig_contents(fig=None)\n",
    "        process_image(img_path, model)\n",
    "        img_segment_contents = get_plt_fig_contents(fig=None)\n",
    "\n",
    "    return html.Div(\n",
    "        [\n",
    "            html.H5(filename),\n",
    "            html.H6(datetime.datetime.fromtimestamp(date)),\n",
    "            # HTML images accept base64 encoded strings in the same format\n",
    "            # that is supplied by the upload\n",
    "            html.Div(\n",
    "                [html.Img(src=img_crop_contents, height=800)],\n",
    "                style={\"display\": \"inline-block\", \"height\": \"800px\"},\n",
    "            ),\n",
    "            html.Div(\n",
    "                [html.Img(src=img_segment_contents, height=500)],\n",
    "                style={\"display\": \"inline-block\", \"height\": \"800px\"},\n",
    "            ),\n",
    "            html.Hr(),\n",
    "            html.Div(\"Raw Content\"),\n",
    "            html.Pre(\n",
    "                contents[0:200] + \"...\",\n",
    "                style={\"whiteSpace\": \"pre-wrap\", \"wordBreak\": \"break-all\"},\n",
    "            ),\n",
    "        ]\n",
    "    )"
   ]
  },
  {
   "cell_type": "code",
   "execution_count": null,
   "metadata": {
    "tags": []
   },
   "outputs": [],
   "source": [
    "# Stylesheet credits: https://codepen.io/chriddyp/pen/bWLwgP\n",
    "external_stylesheets = [\"https://codepen.io/chriddyp/pen/bWLwgP.css\"]\n",
    "\n",
    "app = dash.Dash(__name__, external_stylesheets=external_stylesheets)\n",
    "\n",
    "app.layout = html.Div(\n",
    "    [\n",
    "        dcc.Upload(\n",
    "            id=\"upload-image\",\n",
    "            children=html.Div([\"Drag and Drop or \", html.A(\"Select Files\")]),\n",
    "            style={\n",
    "                \"width\": \"100%\",\n",
    "                \"height\": \"60px\",\n",
    "                \"lineHeight\": \"60px\",\n",
    "                \"borderWidth\": \"1px\",\n",
    "                \"borderStyle\": \"dashed\",\n",
    "                \"borderRadius\": \"5px\",\n",
    "                \"textAlign\": \"center\",\n",
    "                \"margin\": \"10px\",\n",
    "            },\n",
    "            # Allow multiple files to be uploaded\n",
    "            multiple=True,\n",
    "        ),\n",
    "        html.Div(\n",
    "            [\n",
    "                parse_contents(\n",
    "                    default_img_content, img_path.name, img_path.stat().st_mtime\n",
    "                )\n",
    "            ],\n",
    "            id=\"output-image-upload\",\n",
    "        ),\n",
    "        html.Div(id=\"output-image-crops\"),\n",
    "    ]\n",
    ")\n",
    "\n",
    "\n",
    "@app.callback(\n",
    "    Output(\"output-image-upload\", \"children\"),\n",
    "    [Input(\"upload-image\", \"contents\")],\n",
    "    [State(\"upload-image\", \"filename\"), State(\"upload-image\", \"last_modified\")],\n",
    ")\n",
    "def update_output(list_of_contents, list_of_names, list_of_dates):\n",
    "    if list_of_contents is not None:\n",
    "        children = [\n",
    "            parse_contents(c, n, d)\n",
    "            for c, n, d in zip(list_of_contents, list_of_names, list_of_dates)\n",
    "        ]\n",
    "        return children\n",
    "    return dash.no_update"
   ]
  },
  {
   "cell_type": "code",
   "execution_count": null,
   "metadata": {
    "tags": []
   },
   "outputs": [],
   "source": [
    "import os"
   ]
  },
  {
   "cell_type": "code",
   "execution_count": null,
   "metadata": {
    "tags": []
   },
   "outputs": [],
   "source": [
    "dashboard_url = f\"http://localhost:{PORT}\"\n",
    "print(f\"Dashboard will be available at: {dashboard_url}. Open the link in browser.\")"
   ]
  },
  {
   "cell_type": "code",
   "execution_count": null,
   "metadata": {
    "tags": []
   },
   "outputs": [],
   "source": [
    "import logging\n",
    "from logging.handlers import RotatingFileHandler\n",
    "\n",
    "logger = logging.getLogger(\"Image crop logger\")\n",
    "handler = RotatingFileHandler(\n",
    "    str(Path(\"./dash_app.log\").expanduser()), maxBytes=10000, backupCount=5\n",
    ")\n",
    "logger.addHandler(handler)"
   ]
  },
  {
   "cell_type": "code",
   "execution_count": null,
   "metadata": {
    "tags": []
   },
   "outputs": [],
   "source": [
    "logger.warning(f\"Starting dashboard at: {dashboard_url}. Open the link in browser.\")"
   ]
  },
  {
   "cell_type": "code",
   "execution_count": null,
   "metadata": {
    "tags": []
   },
   "outputs": [],
   "source": [
    "print(f\"Access dashboard at: {dashboard_url}\")\n",
    "app.server.logger.addHandler(handler)\n",
    "app.run_server(\n",
    "    debug=False, threaded=False, port=PORT, dev_tools_ui=True, host=\"0.0.0.0\"\n",
    ")"
   ]
  },
  {
   "cell_type": "code",
   "execution_count": null,
   "metadata": {},
   "outputs": [],
   "source": []
  },
  {
   "cell_type": "code",
   "execution_count": null,
   "metadata": {},
   "outputs": [],
   "source": []
  }
 ],
 "metadata": {
  "kernelspec": {
   "display_name": "Python [conda env:image-crop-analysis]",
   "language": "python",
   "name": "conda-env-image-crop-analysis-py"
  },
  "language_info": {
   "codemirror_mode": {
    "name": "ipython",
    "version": 3
   },
   "file_extension": ".py",
   "mimetype": "text/x-python",
   "name": "python",
   "nbconvert_exporter": "python",
   "pygments_lexer": "ipython3",
   "version": "3.9.4"
  },
  "mldash_entity": {
   "created_at_millis": 1618548760501,
   "hash": "f2db1e05799e5d8dcfa48ff4e907b1c87a2b1069",
   "inferred_pdp_safe": false,
   "is_vfs_dir": false,
   "marked_pdp_safe": false,
   "owner": "smishra",
   "shared_to_everyone": false,
   "shared_to_ldap_groups": [],
   "shared_to_ldap_users": [],
   "size": 799392,
   "tags": [],
   "uuid": "1382919850884943875",
   "vfs_path": "/user/smishra/notebooks/ImageCrop/Image Annotation Dash.ipynb"
  }
 },
 "nbformat": 4,
 "nbformat_minor": 4
}
